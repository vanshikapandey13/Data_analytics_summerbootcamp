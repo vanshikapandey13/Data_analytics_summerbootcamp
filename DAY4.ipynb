{
 "cells": [
  {
   "cell_type": "code",
   "execution_count": 8,
   "id": "c5a3e7c1-587d-4117-a369-376bcfe5f9e1",
   "metadata": {},
   "outputs": [
    {
     "name": "stdout",
     "output_type": "stream",
     "text": [
      "2\n",
      "4\n",
      "6\n",
      "8\n",
      "10\n",
      "12\n",
      "14\n",
      "16\n",
      "18\n",
      "20\n",
      "22\n",
      "24\n",
      "26\n",
      "28\n",
      "30\n",
      "32\n",
      "34\n",
      "36\n",
      "38\n",
      "40\n",
      "42\n",
      "44\n",
      "46\n",
      "48\n",
      "50\n"
     ]
    }
   ],
   "source": [
    "def print_i():\n",
    "    for i in range(2,51,2):\n",
    "     print(i)\n",
    "print_i()"
   ]
  },
  {
   "cell_type": "code",
   "execution_count": 10,
   "id": "3ee6fd94-ce4f-46cb-9927-2343883d8684",
   "metadata": {},
   "outputs": [
    {
     "name": "stdout",
     "output_type": "stream",
     "text": [
      "all marks: (80, 85, 90, 75)\n",
      "total: 330\n"
     ]
    }
   ],
   "source": [
    "def total_marks(*marks):\n",
    "    print(\"all marks:\",marks)\n",
    "    print(\"total:\",sum(marks))\n",
    "total_marks(80,85,90,75)    \n",
    "    "
   ]
  },
  {
   "cell_type": "raw",
   "id": "32aa8563-7a9b-4cd7-8b71-8dd7b638345a",
   "metadata": {},
   "source": [
    "def greet(name=\"ritik\"):\n",
    "  print(\"hello\",name)\n",
    "\n",
    "greet()\n",
    "greet(\"nistha\")\n",
    "   "
   ]
  },
  {
   "cell_type": "code",
   "execution_count": 11,
   "id": "58231229-cbe1-4e75-adf1-b3156dcd1a78",
   "metadata": {},
   "outputs": [
    {
     "name": "stdout",
     "output_type": "stream",
     "text": [
      "hello vanshika\n",
      "hello vanshika\n"
     ]
    }
   ],
   "source": [
    "def greet(name=\"vanshika\"):\n",
    "    print(\"hello\",name)\n",
    "greet()\n",
    "greet(\"vanshika\")"
   ]
  },
  {
   "cell_type": "code",
   "execution_count": 13,
   "id": "b6b145ce-841e-4668-b549-50ad2439814d",
   "metadata": {},
   "outputs": [
    {
     "name": "stdout",
     "output_type": "stream",
     "text": [
      "16\n"
     ]
    }
   ],
   "source": [
    "def mul(a,b):\n",
    "   print(a*b)\n",
    "mul(4,4)"
   ]
  },
  {
   "cell_type": "code",
   "execution_count": 14,
   "id": "1501215c-a711-4540-a6c4-49a5151360e9",
   "metadata": {},
   "outputs": [
    {
     "name": "stdout",
     "output_type": "stream",
     "text": [
      "11\n"
     ]
    }
   ],
   "source": [
    "def sum(a,b):\n",
    "    print(a+b)\n",
    "sum(5,6)"
   ]
  },
  {
   "cell_type": "code",
   "execution_count": 20,
   "id": "9dc7dd3b-4714-44c9-8f63-c305b19dcefe",
   "metadata": {},
   "outputs": [
    {
     "name": "stdout",
     "output_type": "stream",
     "text": [
      "a is even\n"
     ]
    }
   ],
   "source": [
    "def num(a):\n",
    "    if a % 2==0:\n",
    "     print(\"a is even\")\n",
    "    else:\n",
    "        print(\"a is odd\")\n",
    "num(4)"
   ]
  },
  {
   "cell_type": "code",
   "execution_count": 23,
   "id": "f80c7e5b-435e-469b-a616-974fae5bce9a",
   "metadata": {},
   "outputs": [
    {
     "data": {
      "text/plain": [
       "120"
      ]
     },
     "execution_count": 23,
     "metadata": {},
     "output_type": "execute_result"
    }
   ],
   "source": [
    "def factorial(n):\n",
    "    if n == 0 or n == 1:\n",
    "        return 1\n",
    "    else:\n",
    "        return n* factorial(n-1)\n",
    "factorial(5)"
   ]
  },
  {
   "cell_type": "code",
   "execution_count": 1,
   "id": "60a317e2-249b-413d-a08c-b5a13328f23a",
   "metadata": {},
   "outputs": [
    {
     "name": "stdout",
     "output_type": "stream",
     "text": [
      "10\n"
     ]
    }
   ],
   "source": [
    "print(max([3,4,5,10]))\n",
    "    "
   ]
  },
  {
   "cell_type": "code",
   "execution_count": 28,
   "id": "79d2b456-9122-4988-bc6f-10cd829973db",
   "metadata": {},
   "outputs": [
    {
     "name": "stdout",
     "output_type": "stream",
     "text": [
      "olleh\n"
     ]
    }
   ],
   "source": [
    "def reverse_string(s):\n",
    "    return s[::-1]\n",
    "print(reverse_string(\"hello\"))"
   ]
  },
  {
   "cell_type": "code",
   "execution_count": 29,
   "id": "e58e9057-e480-41b5-be1a-447a468b1816",
   "metadata": {},
   "outputs": [
    {
     "name": "stdout",
     "output_type": "stream",
     "text": [
      "0 1 1 2 3 5 8 "
     ]
    }
   ],
   "source": [
    "\n",
    "def fibonacci(n):\n",
    "    a, b = 0, 1\n",
    "    for _ in range(n):\n",
    "        print(a, end=\" \")\n",
    "        a, b = b, a + b\n",
    "        \n",
    "fibonacci(7)\n",
    "\n"
   ]
  },
  {
   "cell_type": "code",
   "execution_count": 28,
   "id": "c875bb9d-e525-45d8-a919-9a3e77874a13",
   "metadata": {},
   "outputs": [
    {
     "name": "stdout",
     "output_type": "stream",
     "text": [
      "olleh\n"
     ]
    }
   ],
   "source": [
    "def reverse_string(s):\n",
    "    return s[::-1]  \n",
    "print(reverse_string(\"hello\"))"
   ]
  },
  {
   "cell_type": "code",
   "execution_count": 1,
   "id": "19cfc2aa-4c40-473d-bc25-6507dc4e26ea",
   "metadata": {},
   "outputs": [
    {
     "name": "stdout",
     "output_type": "stream",
     "text": [
      "<class 'list'>\n"
     ]
    }
   ],
   "source": [
    "a=[7,'s',7.5]\n",
    "print(type(a))"
   ]
  },
  {
   "cell_type": "code",
   "execution_count": 8,
   "id": "35c968c9-6ea1-4a9d-a81d-953a7d23bb1b",
   "metadata": {},
   "outputs": [
    {
     "name": "stdout",
     "output_type": "stream",
     "text": [
      "[2, 8.2, 3, 2, 1, 2]\n"
     ]
    }
   ],
   "source": [
    "lst=[2,8.2,3,2]\n",
    "lst.extend([1,2])\n",
    "print(lst) "
   ]
  },
  {
   "cell_type": "code",
   "execution_count": 26,
   "id": "d31f8ef0-ce51-4754-9e7e-02cb67cf2c55",
   "metadata": {},
   "outputs": [
    {
     "name": "stdout",
     "output_type": "stream",
     "text": [
      "[2, 3, 4]\n"
     ]
    }
   ],
   "source": [
    "a=[2,3,4,5]\n",
    "a.pop()\n",
    "print(a)"
   ]
  },
  {
   "cell_type": "code",
   "execution_count": 28,
   "id": "34a8b156-c33b-4e60-b519-1a32ae245692",
   "metadata": {},
   "outputs": [
    {
     "name": "stdout",
     "output_type": "stream",
     "text": [
      "[2, 3, 4, 5]\n"
     ]
    }
   ],
   "source": [
    "a=[3,2,3,4,5]\n",
    "a.remove(3)\n",
    "print(a)\n",
    "\n"
   ]
  },
  {
   "cell_type": "code",
   "execution_count": 30,
   "id": "665a8b10-54cd-4e05-a898-0fa42da484d3",
   "metadata": {},
   "outputs": [
    {
     "name": "stdout",
     "output_type": "stream",
     "text": [
      "[]\n"
     ]
    }
   ],
   "source": [
    "a=[3,4,5,6,7]\n",
    "a.clear()\n",
    "print(a)"
   ]
  },
  {
   "cell_type": "code",
   "execution_count": 35,
   "id": "3355fe2e-9693-4521-8a8b-079f47656184",
   "metadata": {},
   "outputs": [
    {
     "data": {
      "text/plain": [
       "3"
      ]
     },
     "execution_count": 35,
     "metadata": {},
     "output_type": "execute_result"
    }
   ],
   "source": [
    "a=[3,5,4,1,2]\n",
    "a.index(1)\n"
   ]
  },
  {
   "cell_type": "code",
   "execution_count": 34,
   "id": "d4c9b50f-1cd1-4dc7-b1d9-73a8df6e682b",
   "metadata": {},
   "outputs": [
    {
     "data": {
      "text/plain": [
       "3"
      ]
     },
     "execution_count": 34,
     "metadata": {},
     "output_type": "execute_result"
    }
   ],
   "source": [
    "a=[1,2,3,4,4,2,4,1]\n",
    "a.count(4)\n"
   ]
  },
  {
   "cell_type": "code",
   "execution_count": 45,
   "id": "fd41752d-ad9f-443b-8399-48082623cb1e",
   "metadata": {},
   "outputs": [
    {
     "name": "stdout",
     "output_type": "stream",
     "text": [
      "[15, 20, 35, 60]\n"
     ]
    }
   ],
   "source": [
    "a=[15,20,35,60]\n",
    "a.sort()\n",
    "print(a)"
   ]
  },
  {
   "cell_type": "code",
   "execution_count": 46,
   "id": "68b3ce8f-7ede-41c4-b7b5-de820109b193",
   "metadata": {},
   "outputs": [
    {
     "name": "stdout",
     "output_type": "stream",
     "text": [
      "[16, 15, 10]\n"
     ]
    }
   ],
   "source": [
    "a=[10,15,16]\n",
    "a.reverse()\n",
    "print(a)"
   ]
  },
  {
   "cell_type": "code",
   "execution_count": 48,
   "id": "e2f5d7ff-e8e4-460f-8b65-46086d6d896b",
   "metadata": {},
   "outputs": [
    {
     "name": "stdout",
     "output_type": "stream",
     "text": [
      "[10, 20, 30]\n"
     ]
    }
   ],
   "source": [
    "a=[10,20,30]\n",
    "a.copy()\n",
    "print(a)"
   ]
  },
  {
   "cell_type": "code",
   "execution_count": 49,
   "id": "f971fa58-49c3-462d-b00e-81a18d24ded0",
   "metadata": {},
   "outputs": [
    {
     "name": "stdout",
     "output_type": "stream",
     "text": [
      "[0, 1, 2, 3]\n",
      "[4, 5, 6, 7, 8, 9]\n"
     ]
    }
   ],
   "source": [
    "num=[0,1,2,3,4,5,6,7,8,9]\n",
    "print(num [0:4])\n",
    "print(num[4:])"
   ]
  },
  {
   "cell_type": "code",
   "execution_count": 50,
   "id": "d21b9567-5262-46fd-aecf-976207e46735",
   "metadata": {},
   "outputs": [
    {
     "data": {
      "text/plain": [
       "[1, 4, 9]"
      ]
     },
     "execution_count": 50,
     "metadata": {},
     "output_type": "execute_result"
    }
   ],
   "source": [
    "[i**2 for i in [1,2,3]]"
   ]
  },
  {
   "cell_type": "code",
   "execution_count": 52,
   "id": "fbeb151a-925a-4f05-9938-16aa916d208a",
   "metadata": {},
   "outputs": [
    {
     "data": {
      "text/plain": [
       "[15, 17, 25, 27, 35, 37]"
      ]
     },
     "execution_count": 52,
     "metadata": {},
     "output_type": "execute_result"
    }
   ],
   "source": [
    "[10*i+j for i in [1,2,3] for j in [5,7]]"
   ]
  },
  {
   "cell_type": "markdown",
   "id": "c3274437-d4fb-467c-b439-74ac7d1c7e1c",
   "metadata": {},
   "source": [
    "[10*i+j for "
   ]
  },
  {
   "cell_type": "raw",
   "id": "10674f06-ac2c-4c00-8af9-c50465d630d1",
   "metadata": {},
   "source": []
  }
 ],
 "metadata": {
  "kernelspec": {
   "display_name": "Python [conda env:base] *",
   "language": "python",
   "name": "conda-base-py"
  },
  "language_info": {
   "codemirror_mode": {
    "name": "ipython",
    "version": 3
   },
   "file_extension": ".py",
   "mimetype": "text/x-python",
   "name": "python",
   "nbconvert_exporter": "python",
   "pygments_lexer": "ipython3",
   "version": "3.13.5"
  }
 },
 "nbformat": 4,
 "nbformat_minor": 5
}
