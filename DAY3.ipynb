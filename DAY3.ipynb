{
 "cells": [
  {
   "cell_type": "code",
   "execution_count": 1,
   "id": "15850d42-9cac-446f-93bc-90eef7d769be",
   "metadata": {},
   "outputs": [
    {
     "name": "stdin",
     "output_type": "stream",
     "text": [
      "enter the number 5\n"
     ]
    },
    {
     "name": "stdout",
     "output_type": "stream",
     "text": [
      "5 x 1=5\n",
      "5 x 2=10\n",
      "5 x 3=15\n",
      "5 x 4=20\n",
      "5 x 5=25\n",
      "5 x 6=30\n",
      "5 x 7=35\n",
      "5 x 8=40\n",
      "5 x 9=45\n",
      "5 x 10=50\n"
     ]
    }
   ],
   "source": [
    "#MUltiplication of 5\n",
    "num=int(input(\"enter the number\"))\n",
    "for i in range(1,11):\n",
    "    print(f\"{num} x {i}={num*i}\")\n"
   ]
  },
  {
   "cell_type": "code",
   "execution_count": 2,
   "id": "90cfab3a-74f0-40b3-a5a3-3c25b7d490df",
   "metadata": {},
   "outputs": [
    {
     "name": "stdin",
     "output_type": "stream",
     "text": [
      "enter the number 5\n"
     ]
    },
    {
     "name": "stdout",
     "output_type": "stream",
     "text": [
      "factorial of 5 is 120.\n"
     ]
    }
   ],
   "source": [
    "#factorial\n",
    "num=int(input(\"enter the number\"))\n",
    "factorial=1\n",
    "if num<0:\n",
    "    print(\"factorial doesnt exist for negative number\")\n",
    "elif num==0:\n",
    "    print(\"factorial of 0 is 1\")\n",
    "else:\n",
    "    for i in range(1,num+1):\n",
    "        factorial*=i\n",
    "    print(f\"factorial of {num} is {factorial}.\")"
   ]
  },
  {
   "cell_type": "code",
   "execution_count": 3,
   "id": "2d0fd50e-40a2-40c8-85f4-172ad8745a1d",
   "metadata": {},
   "outputs": [
    {
     "name": "stdin",
     "output_type": "stream",
     "text": [
      "Enter password:  OPEN123\n"
     ]
    },
    {
     "name": "stdout",
     "output_type": "stream",
     "text": [
      "Wrong password! 2 attempts left.\n"
     ]
    },
    {
     "name": "stdin",
     "output_type": "stream",
     "text": [
      "Enter password:  open123\n"
     ]
    },
    {
     "name": "stdout",
     "output_type": "stream",
     "text": [
      "Access granted \n"
     ]
    }
   ],
   "source": [
    "password = \"open123\"\n",
    "attempts = 3\n",
    "\n",
    "while attempts > 0:\n",
    "    user_input = input(\"Enter password: \")\n",
    "    if user_input == password:\n",
    "        print(\"Access granted \")\n",
    "        break\n",
    "    else:\n",
    "        attempts -= 1\n",
    "        print(f\"Wrong password! {attempts} attempts left.\")\n"
   ]
  },
  {
   "cell_type": "code",
   "execution_count": 4,
   "id": "5efba428-f65a-48ad-8b95-85d14ad8e3f5",
   "metadata": {},
   "outputs": [
    {
     "name": "stdin",
     "output_type": "stream",
     "text": [
      "enter the number 8\n"
     ]
    },
    {
     "name": "stdout",
     "output_type": "stream",
     "text": [
      "8x1=8\n",
      "8x2=16\n",
      "8x3=24\n",
      "8x4=32\n",
      "8x5=40\n",
      "8x6=48\n",
      "8x7=56\n",
      "8x8=64\n",
      "8x9=72\n",
      "8x10=80\n"
     ]
    }
   ],
   "source": [
    "num= int(input(\"enter the number\"))\n",
    "i=1\n",
    "while i<11:\n",
    "    print(f\"{num}x{i}={num*i}\")\n",
    "    i+=1"
   ]
  },
  {
   "cell_type": "code",
   "execution_count": 5,
   "id": "5bf26de7-17d2-4c86-b0f2-e830f23afca3",
   "metadata": {},
   "outputs": [
    {
     "name": "stdout",
     "output_type": "stream",
     "text": [
      "1\n",
      "2\n",
      "3\n",
      "4\n",
      "6\n",
      "7\n",
      "8\n",
      "9\n"
     ]
    }
   ],
   "source": [
    "for i in range(1,10):\n",
    " if i==5:\n",
    "  continue\n",
    " print(i)"
   ]
  },
  {
   "cell_type": "code",
   "execution_count": 6,
   "id": "dc542e96-0b5b-4471-9b02-1f4cd8a73699",
   "metadata": {},
   "outputs": [
    {
     "name": "stdout",
     "output_type": "stream",
     "text": [
      "count divisible by 5 between 1 to 100 20\n"
     ]
    }
   ],
   "source": [
    "#num divisible by 5 between 1 to 100\n",
    "a=0\n",
    "for i in range(1,101,5):\n",
    "    a+=1\n",
    "print(\"count divisible by 5 between 1 to 100\",a)\n"
   ]
  },
  {
   "cell_type": "code",
   "execution_count": 7,
   "id": "050cd71a-56cb-43a5-a764-4ecec96f1927",
   "metadata": {},
   "outputs": [
    {
     "name": "stdin",
     "output_type": "stream",
     "text": [
      "enter the year 2005\n"
     ]
    },
    {
     "name": "stdout",
     "output_type": "stream",
     "text": [
      "not a leap year\n"
     ]
    }
   ],
   "source": [
    "#leap year\n",
    "year=int(input(\"enter the year\"))\n",
    "if(year%400==0) or (year%4==0 and year%100!=00):\n",
    "    print(\"its a leap year\")\n",
    "else:\n",
    "    print(\"not a leap year\")"
   ]
  },
  {
   "cell_type": "code",
   "execution_count": 8,
   "id": "975ea7c1-be85-49fb-8246-b8fad0175a14",
   "metadata": {},
   "outputs": [
    {
     "name": "stdout",
     "output_type": "stream",
     "text": [
      "1\n",
      "2\n",
      "4\n",
      "5\n",
      "7\n",
      "8\n",
      "10\n",
      "11\n",
      "13\n",
      "14\n",
      "16\n",
      "17\n",
      "19\n",
      "20\n",
      "22\n",
      "23\n",
      "25\n",
      "26\n",
      "28\n",
      "29\n",
      "31\n",
      "32\n",
      "34\n",
      "35\n",
      "37\n",
      "38\n",
      "40\n",
      "41\n",
      "43\n",
      "44\n",
      "46\n",
      "47\n",
      "49\n",
      "50\n"
     ]
    }
   ],
   "source": [
    "#skip number divisible by 3 between 1 to 50\n",
    "for a in range(1,51):\n",
    "    if a%3==0:\n",
    "        continue\n",
    "    print(a)"
   ]
  },
  {
   "cell_type": "code",
   "execution_count": 9,
   "id": "a443db30-a17c-41c1-b4f2-f548994f7688",
   "metadata": {},
   "outputs": [
    {
     "name": "stdout",
     "output_type": "stream",
     "text": [
      "1\n",
      "3\n",
      "5\n",
      "7\n",
      "9\n",
      "11\n",
      "13\n",
      "15\n",
      "17\n",
      "19\n",
      "21\n",
      "23\n",
      "25\n",
      "27\n",
      "29\n",
      "31\n",
      "33\n",
      "35\n",
      "37\n",
      "39\n",
      "41\n",
      "43\n",
      "45\n",
      "47\n",
      "49\n",
      "51\n",
      "53\n",
      "55\n",
      "57\n",
      "59\n",
      "61\n",
      "63\n",
      "65\n",
      "67\n",
      "69\n",
      "71\n",
      "73\n",
      "75\n",
      "77\n",
      "79\n",
      "81\n",
      "83\n",
      "85\n",
      "87\n",
      "89\n",
      "91\n",
      "93\n",
      "95\n",
      "97\n",
      "99\n"
     ]
    }
   ],
   "source": [
    "for a in range(1,101):\n",
    "   if a%2!=0:\n",
    "       print(a)"
   ]
  },
  {
   "cell_type": "code",
   "execution_count": 11,
   "id": "f0cd7827-c53f-48ef-8f9c-74332ae2149a",
   "metadata": {},
   "outputs": [
    {
     "name": "stdin",
     "output_type": "stream",
     "text": [
      "enter a string aaza\n"
     ]
    },
    {
     "name": "stdout",
     "output_type": "stream",
     "text": [
      "a\n",
      "a\n"
     ]
    }
   ],
   "source": [
    "s=str(input(\"enter a string\"))\n",
    "for ch in s:\n",
    "      if ch=='z':\n",
    "       break\n",
    "      print(ch)"
   ]
  },
  {
   "cell_type": "code",
   "execution_count": 12,
   "id": "4e4c4911-7fe7-4769-8363-f46436d38b13",
   "metadata": {},
   "outputs": [
    {
     "name": "stdin",
     "output_type": "stream",
     "text": [
      "enter a vharacter lala\n"
     ]
    },
    {
     "name": "stdout",
     "output_type": "stream",
     "text": [
      "not vowel\n"
     ]
    }
   ],
   "source": [
    "ch=input(\"enter a vharacter\")\n",
    "if ch in 'aeiou':\n",
    "    print(\"vowel\")\n",
    "else:\n",
    "    print(\"not vowel\")"
   ]
  },
  {
   "cell_type": "code",
   "execution_count": null,
   "id": "30d4aaca-5aa1-4aae-b126-1151d7161b54",
   "metadata": {},
   "outputs": [],
   "source": []
  }
 ],
 "metadata": {
  "kernelspec": {
   "display_name": "Python [conda env:base] *",
   "language": "python",
   "name": "conda-base-py"
  },
  "language_info": {
   "codemirror_mode": {
    "name": "ipython",
    "version": 3
   },
   "file_extension": ".py",
   "mimetype": "text/x-python",
   "name": "python",
   "nbconvert_exporter": "python",
   "pygments_lexer": "ipython3",
   "version": "3.13.5"
  }
 },
 "nbformat": 4,
 "nbformat_minor": 5
}
