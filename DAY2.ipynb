{
 "cells": [
  {
   "cell_type": "code",
   "execution_count": 1,
   "id": "d356a1f5-7096-41a6-bedb-d27f576f882e",
   "metadata": {},
   "outputs": [
    {
     "name": "stdin",
     "output_type": "stream",
     "text": [
      "enter product name LIPSTICK\n",
      "enter the quantity of product 6\n",
      "enter the price of one product 2000\n"
     ]
    },
    {
     "name": "stdout",
     "output_type": "stream",
     "text": [
      "Name of the product LIPSTICK\n",
      "Quantity of the product 6\n",
      "price of the product 2000.0\n",
      "total bill for you 12000.0\n"
     ]
    }
   ],
   "source": [
    "#bill\n",
    "product=str(input(\"enter product name\"))\n",
    "quantity=int(input(\"enter the quantity of product\"))\n",
    "price=float(input(\"enter the price of one product\"))\n",
    "bill=price*quantity\n",
    "print(\"Name of the product\",product)\n",
    "print(\"Quantity of the product\",quantity)\n",
    "print(\"price of the product\",price)\n",
    "print(\"total bill for you\",bill)"
   ]
  },
  {
   "cell_type": "code",
   "execution_count": 3,
   "id": "8921de23-5128-4e5d-b408-1ebb95fd6c70",
   "metadata": {},
   "outputs": [
    {
     "name": "stdout",
     "output_type": "stream",
     "text": [
      "WELCOME TO MY PROJECT\n"
     ]
    }
   ],
   "source": [
    "a=10\n",
    "if a<20:\n",
    "   print(\"WELCOME TO MY PROJECT\")"
   ]
  },
  {
   "cell_type": "code",
   "execution_count": 4,
   "id": "e4620be6-cd74-439b-b904-325f7a7f48fa",
   "metadata": {},
   "outputs": [
    {
     "name": "stdout",
     "output_type": "stream",
     "text": [
      "bye\n"
     ]
    }
   ],
   "source": [
    "a=10\n",
    "if a>15:\n",
    "   print(\"hello\")\n",
    "else:\n",
    "   print(\"bye\")"
   ]
  },
  {
   "cell_type": "code",
   "execution_count": 5,
   "id": "1be27c0c-cbe8-450a-a482-22d58b30929b",
   "metadata": {},
   "outputs": [
    {
     "name": "stdout",
     "output_type": "stream",
     "text": [
      "yes\n"
     ]
    }
   ],
   "source": [
    "x=5\n",
    "if x>2:\n",
    "   print(\"yes\")"
   ]
  },
  {
   "cell_type": "code",
   "execution_count": 6,
   "id": "07a74ae4-a851-4156-88ce-957799341ba5",
   "metadata": {},
   "outputs": [
    {
     "name": "stdout",
     "output_type": "stream",
     "text": [
      "15\n"
     ]
    }
   ],
   "source": [
    "x=10\n",
    "print(int(x)+5)"
   ]
  },
  {
   "cell_type": "code",
   "execution_count": 7,
   "id": "c66396ea-af63-4a74-9133-78a8116c901d",
   "metadata": {},
   "outputs": [
    {
     "name": "stdout",
     "output_type": "stream",
     "text": [
      "false\n"
     ]
    }
   ],
   "source": [
    "x=0\n",
    "if x>0:\n",
    "      print(\"true\")\n",
    "else:\n",
    "    print(\"false\")"
   ]
  },
  {
   "cell_type": "code",
   "execution_count": 8,
   "id": "8ca5fde7-f5b2-4af2-8902-d93d8e5b3f21",
   "metadata": {},
   "outputs": [
    {
     "name": "stdin",
     "output_type": "stream",
     "text": [
      "enter the name VANSHI\n",
      "enter age 20\n"
     ]
    },
    {
     "name": "stdout",
     "output_type": "stream",
     "text": [
      "VANSHI\n",
      "you are elegible\n"
     ]
    }
   ],
   "source": [
    "name=str(input(\"enter the name\"))\n",
    "age=int(input(\"enter age\"))\n",
    "if age<18:\n",
    "    print(name)\n",
    "    print(\"you are not ellegible to vote\")\n",
    "elif age>18:\n",
    "    print(name)\n",
    "    print(\"you are elegible\")\n",
    "else:\n",
    "    print(\"invalid\")\n",
    "    "
   ]
  },
  {
   "cell_type": "code",
   "execution_count": 9,
   "id": "0b4adcf1-8075-4dd8-a636-a75a0958429e",
   "metadata": {},
   "outputs": [
    {
     "name": "stdout",
     "output_type": "stream",
     "text": [
      "pass\n"
     ]
    }
   ],
   "source": [
    "marks=50\n",
    "if marks>=40:\n",
    "    print(\"pass\")\n",
    "else:\n",
    "    print(\"fail\")"
   ]
  },
  {
   "cell_type": "code",
   "execution_count": 11,
   "id": "29359535-97ad-4731-9919-4a4f2f1d9b11",
   "metadata": {},
   "outputs": [
    {
     "name": "stdin",
     "output_type": "stream",
     "text": [
      "enter a number 101010\n"
     ]
    },
    {
     "name": "stdout",
     "output_type": "stream",
     "text": [
      "even\n"
     ]
    }
   ],
   "source": [
    "a=int(input(\"enter a number\"))\n",
    "if (a%2==0):\n",
    "    print(\"even\")\n",
    "else:\n",
    "    print(\"odd\")"
   ]
  },
  {
   "cell_type": "code",
   "execution_count": 12,
   "id": "bdcedb54-b189-44f4-a40d-6ffb4eabf7aa",
   "metadata": {},
   "outputs": [
    {
     "name": "stdout",
     "output_type": "stream",
     "text": [
      "positive\n"
     ]
    }
   ],
   "source": [
    "x=6\n",
    "if x:\n",
    "    print(\"positive\")\n",
    "else:\n",
    "    print(\"negative\")"
   ]
  },
  {
   "cell_type": "code",
   "execution_count": 14,
   "id": "f60f2a34-6a71-46cd-a18b-9beac497e126",
   "metadata": {},
   "outputs": [
    {
     "name": "stdin",
     "output_type": "stream",
     "text": [
      "enter the name of month july\n"
     ]
    },
    {
     "name": "stdout",
     "output_type": "stream",
     "text": [
      "rainy season\n"
     ]
    }
   ],
   "source": [
    "#one year 12 moonths \n",
    "a=str(input(\"enter the name of month\"))\n",
    "if a in[\"november\",\"december\",\"january\",\"febuary\"]:\n",
    "    print(\"the given season is winter season\")\n",
    "elif a in[\"march\",\"april\",\"may\",\"june\"]:\n",
    "    print(\"the given season is summer season\")\n",
    "elif a in[\"july\"]:\n",
    "    print(\"rainy season\")\n",
    "elif a in[\"august\",\"september\"]:\n",
    "    print(\"autumn season\")\n",
    "else:\n",
    "    print(\"error\")"
   ]
  },
  {
   "cell_type": "code",
   "execution_count": 15,
   "id": "4e443525-238e-4b95-9b59-937b415e1c9a",
   "metadata": {},
   "outputs": [
    {
     "name": "stdout",
     "output_type": "stream",
     "text": [
      "a\n"
     ]
    }
   ],
   "source": [
    "x=10\n",
    "if x>5:\n",
    "  print('a')\n",
    "elif x>3:\n",
    "  print('b')\n",
    "else:\n",
    "  print('c')"
   ]
  },
  {
   "cell_type": "code",
   "execution_count": 16,
   "id": "a523d198-66dd-4ed8-be7e-15a8635fdc7e",
   "metadata": {},
   "outputs": [
    {
     "name": "stdout",
     "output_type": "stream",
     "text": [
      "no\n"
     ]
    }
   ],
   "source": [
    "x=4\n",
    "y=2\n",
    "if x>2:\n",
    "    if y>3:\n",
    "        print('yes')\n",
    "    else:\n",
    "        print('no')"
   ]
  },
  {
   "cell_type": "code",
   "execution_count": 17,
   "id": "15bc4b25-df59-46a1-85c5-7e33f72c8b33",
   "metadata": {},
   "outputs": [
    {
     "name": "stdout",
     "output_type": "stream",
     "text": [
      "adult\n"
     ]
    }
   ],
   "source": [
    "age=50\n",
    "if age<13:\n",
    "    print('child')\n",
    "elif age <18 :\n",
    "    print('teen')\n",
    "else :\n",
    "    print('adult')"
   ]
  },
  {
   "cell_type": "code",
   "execution_count": 20,
   "id": "4951ade3-fbd9-4547-8727-8093da1f8a6a",
   "metadata": {},
   "outputs": [
    {
     "name": "stdin",
     "output_type": "stream",
     "text": [
      "enter the mode of transport water\n",
      "enter the name of vehical ship\n"
     ]
    },
    {
     "name": "stdout",
     "output_type": "stream",
     "text": [
      "you are in ship\n"
     ]
    }
   ],
   "source": [
    "mode=str(input(\"enter the mode of transport\"))\n",
    "vehical=str(input(\"enter the name of vehical\"))\n",
    "if mode==\"air\":\n",
    " if vehical==\"aeroplane\":\n",
    "    print(\"you are in aeroplane\")\n",
    " elif vehical==\"hot air balloon\":\n",
    "    print(\"you are in hot air baloon\")\n",
    "if mode==\"water\":\n",
    " if vehical==\"ship\":\n",
    "    print(\"you are in ship\")\n",
    "elif vehical==\"boat\":\n",
    "     print(\"you are in boat\")\n",
    "if mode==\"land\":\n",
    " if vehical==\"car\":\n",
    "    print(\"you are in car\")\n",
    "elif vehical==\"bike\":\n",
    "     print(\"you are in bike\")\n"
   ]
  },
  {
   "cell_type": "code",
   "execution_count": 21,
   "id": "ba1f58e6-9038-48f2-85cf-3b05f5fe8c94",
   "metadata": {},
   "outputs": [
    {
     "name": "stdout",
     "output_type": "stream",
     "text": [
      "x<y\n",
      "x=10\n"
     ]
    }
   ],
   "source": [
    "x = 10\n",
    "y = 12\n",
    "if x > y:\n",
    "    print( \"x>y\")\n",
    "elif x < y:\n",
    "    print( \"x<y\")\n",
    "    if x==10:\n",
    "        print (\"x=10\")\n",
    "    else:\n",
    "        print (\"invalid\")\n",
    "else:\n",
    "    print (\"x=y\")"
   ]
  },
  {
   "cell_type": "code",
   "execution_count": null,
   "id": "98372a45-2ada-4fea-af03-e1a7c55fa0e8",
   "metadata": {},
   "outputs": [],
   "source": []
  }
 ],
 "metadata": {
  "kernelspec": {
   "display_name": "Python [conda env:base] *",
   "language": "python",
   "name": "conda-base-py"
  },
  "language_info": {
   "codemirror_mode": {
    "name": "ipython",
    "version": 3
   },
   "file_extension": ".py",
   "mimetype": "text/x-python",
   "name": "python",
   "nbconvert_exporter": "python",
   "pygments_lexer": "ipython3",
   "version": "3.13.5"
  }
 },
 "nbformat": 4,
 "nbformat_minor": 5
}
